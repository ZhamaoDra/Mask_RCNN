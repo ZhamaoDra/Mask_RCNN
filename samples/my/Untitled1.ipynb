{
 "cells": [
  {
   "cell_type": "code",
   "execution_count": 2,
   "metadata": {},
   "outputs": [],
   "source": [
    "import time\n",
    "import curses\n",
    "\n",
    "def pbar(window):\n",
    "    for i in range(10):\n",
    "        window.addstr(10, 10, \"[\" + (\"=\" * i) + \">\" + (\" \" * (10 - i )) + \"]\")\n",
    "        window.refresh()\n",
    "        time.sleep(0.5)\n",
    "\n",
    "curses.wrapper(pbar)"
   ]
  },
  {
   "cell_type": "code",
   "execution_count": 9,
   "metadata": {},
   "outputs": [
    {
     "name": "stdout",
     "output_type": "stream",
     "text": [
      "bbb"
     ]
    }
   ],
   "source": [
    "print('aaa',end='')\n",
    "#print('\\r',end='')\n",
    "print('bbb',end='')"
   ]
  },
  {
   "cell_type": "code",
   "execution_count": null,
   "metadata": {},
   "outputs": [],
   "source": []
  }
 ],
 "metadata": {
  "kernelspec": {
   "display_name": "Python 3",
   "language": "python",
   "name": "python3"
  },
  "language_info": {
   "codemirror_mode": {
    "name": "ipython",
    "version": 3
   },
   "file_extension": ".py",
   "mimetype": "text/x-python",
   "name": "python",
   "nbconvert_exporter": "python",
   "pygments_lexer": "ipython3",
   "version": "3.6.9"
  }
 },
 "nbformat": 4,
 "nbformat_minor": 4
}
